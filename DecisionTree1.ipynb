{
  "nbformat": 4,
  "nbformat_minor": 0,
  "metadata": {
    "colab": {
      "provenance": []
    },
    "kernelspec": {
      "name": "python3",
      "display_name": "Python 3"
    },
    "language_info": {
      "name": "python"
    }
  },
  "cells": [
    {
      "cell_type": "markdown",
      "source": [
        "**Implement Decision Tree Classifier for classification of EnjoySport dataset\n",
        "a. Load the data set\n",
        "b. Create a function for calculating entropy\n",
        "c. Create a function for calculating InformationGain\n",
        "d. write code for creating Discission Tree**\n",
        "\n"
      ],
      "metadata": {
        "id": "Ik_-7gDIDX6P"
      }
    },
    {
      "cell_type": "code",
      "source": [
        "import pandas as pd\n",
        "import numpy as np\n",
        "df = pd.read_csv('/content/drive/MyDrive/Colab Notebooks/Data/PlayTennis.csv')\n",
        "print(df)\n"
      ],
      "metadata": {
        "colab": {
          "base_uri": "https://localhost:8080/"
        },
        "id": "mIF-sHcIZGbF",
        "outputId": "17844393-9772-4052-99b9-ddf6f3a17fcc"
      },
      "execution_count": 1,
      "outputs": [
        {
          "output_type": "stream",
          "name": "stdout",
          "text": [
            "     outlook  temp humidity  windy play\n",
            "0      sunny   hot     high  False   no\n",
            "1      sunny   hot     high   True   no\n",
            "2   overcast   hot     high  False  yes\n",
            "3      rainy  mild     high  False  yes\n",
            "4      rainy  cool   normal  False  yes\n",
            "5      rainy  cool   normal   True   no\n",
            "6   overcast  cool   normal   True  yes\n",
            "7      sunny  mild     high  False   no\n",
            "8      sunny  cool   normal  False  yes\n",
            "9      rainy  mild   normal  False  yes\n",
            "10     sunny  mild   normal   True  yes\n",
            "11  overcast  mild     high   True  yes\n",
            "12  overcast   hot   normal  False  yes\n",
            "13     rainy  mild     high   True   no\n"
          ]
        }
      ]
    },
    {
      "cell_type": "markdown",
      "source": [
        "**Implement Decision Tree Classifier for classification of EnjoySport dataset\n",
        "a. Load the data set\n",
        "b. Use Label Encoding\n",
        "c. create a Decision Tree\n",
        "d. Visualize the tree**"
      ],
      "metadata": {
        "id": "jZewqOQvUmkt"
      }
    },
    {
      "cell_type": "code",
      "source": [
        "\n",
        "def entropy(target_col):\n",
        "    elements, counts = np.unique(target_col, return_counts=True)\n",
        "    entropy_val = 0\n",
        "    total_counts = np.sum(counts)\n",
        "    # Loop to calculate entropy\n",
        "    for i in range(len(elements)):\n",
        "        prob = counts[i] / total_counts\n",
        "        entropy_val += -prob * np.log2(prob)\n",
        "    return entropy_val\n",
        "target_entropy = entropy(df['play'])\n",
        "print(f\"Entropy of System: {target_entropy}\")\n"
      ],
      "metadata": {
        "colab": {
          "base_uri": "https://localhost:8080/"
        },
        "id": "b_K32e-GaIdv",
        "outputId": "ee010e22-aef3-46ed-cfd6-dda7685d57b8"
      },
      "execution_count": 2,
      "outputs": [
        {
          "output_type": "stream",
          "name": "stdout",
          "text": [
            "Entropy of System: 0.9402859586706311\n"
          ]
        }
      ]
    },
    {
      "cell_type": "code",
      "source": [
        "def info_gain(data, split_attribute, target_name=\"play\"):\n",
        "    total_entropy = entropy(data[target_name])\n",
        "    values, counts = np.unique(data[split_attribute], return_counts=True)\n",
        "    weighted_entropy = np.sum([(counts[i]/np.sum(counts)) * entropy(data.where(data[split_attribute]==values[i]).dropna()[target_name]) for i in range(len(values))])\n",
        "    information_gain = total_entropy - weighted_entropy\n",
        "    return information_gain\n",
        "\n",
        "gain = info_gain(df, 'outlook')\n",
        "print(f\"Information Gain of splitting on Outlook: {gain}\")\n"
      ],
      "metadata": {
        "colab": {
          "base_uri": "https://localhost:8080/"
        },
        "id": "qIK19zW7cF__",
        "outputId": "9ace08d8-bfe2-4503-c808-a7792fa763d8"
      },
      "execution_count": 3,
      "outputs": [
        {
          "output_type": "stream",
          "name": "stdout",
          "text": [
            "Information Gain of splitting on Outlook: 0.24674981977443933\n"
          ]
        }
      ]
    },
    {
      "cell_type": "code",
      "source": [
        "def entropy(target_col, attribute_name=\"\"):\n",
        "    elements, counts = np.unique(target_col, return_counts=True)\n",
        "    entropy_val = np.sum([(-counts[i] / np.sum(counts)) * np.log2(counts[i] / np.sum(counts)) for i in range(len(elements))])\n",
        "\n",
        "    if attribute_name:  # Only print if attribute name is provided\n",
        "        print(f\"Entropy of '{attribute_name}': {entropy_val:.4f}\")\n",
        "\n",
        "    return entropy_val\n",
        "\n",
        "# Function to calculate information gain\n",
        "def info_gain(data, split_attribute, target_name=\"play\"):\n",
        "    print(f\"\\nCalculating Information Gain for attribute: '{split_attribute}'\")\n",
        "\n",
        "    # Calculate the entropy of the entire dataset\n",
        "    total_entropy = entropy(data[target_name], \"System\")\n",
        "    print(f\"Total entropy of the dataset for target '{target_name}': {total_entropy:.4f}\")\n",
        "\n",
        "    # Find unique values in the column (split_attribute)\n",
        "    values, counts = np.unique(data[split_attribute], return_counts=True)\n",
        "\n",
        "    # Weighted Entropy after splitting\n",
        "    weighted_entropy = np.sum([\n",
        "        (counts[i] / np.sum(counts)) * entropy(data.where(data[split_attribute] == values[i]).dropna()[target_name], f\"{split_attribute} = {values[i]}\")\n",
        "        for i in range(len(values))\n",
        "    ])\n",
        "\n",
        "    print(f\"Weighted Entropy for '{split_attribute}': {weighted_entropy:.4f}\")\n",
        "\n",
        "    # Information Gain\n",
        "    information_gain = total_entropy - weighted_entropy\n",
        "    print(f\"Information Gain for attribute '{split_attribute}': {information_gain:.4f}\\n\")\n",
        "\n",
        "    return information_gain\n",
        "\n",
        "# Function to find the attribute with maximum Information Gain\n",
        "def find_best_attribute(data, features, target_name=\"play\"):\n",
        "    print(\"Calculating Information Gain for each attribute...\\n\")\n",
        "    gains = {feature: info_gain(data, feature, target_name) for feature in features}\n",
        "    best_feature = max(gains, key=gains.get)\n",
        "    print(f\"Best attribute to split on is: '{best_feature}' with Information Gain: {gains[best_feature]:.4f}\")\n",
        "    return best_feature, gains[best_feature]\n",
        "features = df.columns[:-1]\n",
        "best_attribute, max_gain = find_best_attribute(df, features)"
      ],
      "metadata": {
        "colab": {
          "base_uri": "https://localhost:8080/"
        },
        "id": "Qjzb6NG_cIjA",
        "outputId": "e43bce53-c205-4a57-a5b6-50a5f41680f0"
      },
      "execution_count": 4,
      "outputs": [
        {
          "output_type": "stream",
          "name": "stdout",
          "text": [
            "Calculating Information Gain for each attribute...\n",
            "\n",
            "\n",
            "Calculating Information Gain for attribute: 'outlook'\n",
            "Entropy of 'System': 0.9403\n",
            "Total entropy of the dataset for target 'play': 0.9403\n",
            "Entropy of 'outlook = overcast': 0.0000\n",
            "Entropy of 'outlook = rainy': 0.9710\n",
            "Entropy of 'outlook = sunny': 0.9710\n",
            "Weighted Entropy for 'outlook': 0.6935\n",
            "Information Gain for attribute 'outlook': 0.2467\n",
            "\n",
            "\n",
            "Calculating Information Gain for attribute: 'temp'\n",
            "Entropy of 'System': 0.9403\n",
            "Total entropy of the dataset for target 'play': 0.9403\n",
            "Entropy of 'temp = cool': 0.8113\n",
            "Entropy of 'temp = hot': 1.0000\n",
            "Entropy of 'temp = mild': 0.9183\n",
            "Weighted Entropy for 'temp': 0.9111\n",
            "Information Gain for attribute 'temp': 0.0292\n",
            "\n",
            "\n",
            "Calculating Information Gain for attribute: 'humidity'\n",
            "Entropy of 'System': 0.9403\n",
            "Total entropy of the dataset for target 'play': 0.9403\n",
            "Entropy of 'humidity = high': 0.9852\n",
            "Entropy of 'humidity = normal': 0.5917\n",
            "Weighted Entropy for 'humidity': 0.7885\n",
            "Information Gain for attribute 'humidity': 0.1518\n",
            "\n",
            "\n",
            "Calculating Information Gain for attribute: 'windy'\n",
            "Entropy of 'System': 0.9403\n",
            "Total entropy of the dataset for target 'play': 0.9403\n",
            "Entropy of 'windy = False': 0.8113\n",
            "Entropy of 'windy = True': 1.0000\n",
            "Weighted Entropy for 'windy': 0.8922\n",
            "Information Gain for attribute 'windy': 0.0481\n",
            "\n",
            "Best attribute to split on is: 'outlook' with Information Gain: 0.2467\n"
          ]
        }
      ]
    },
    {
      "cell_type": "code",
      "source": [
        "\n",
        "class Node:\n",
        "    def __init__(self, name=None, children=None, is_leaf=False, classification=None):\n",
        "        self.name = name\n",
        "        self.children = children if children is not None else {}\n",
        "        self.is_leaf = is_leaf\n",
        "        self.classification = classification\n",
        "\n",
        "    def __repr__(self):\n",
        "        if self.is_leaf:\n",
        "            return f\"Leaf Node: {self.classification}\"\n",
        "        return f\"Decision Node: {self.name} -> {self.children}\"\n",
        "\n",
        "\n",
        "\n",
        "def build_tree(data, features, target_name=\"play\"):\n",
        "    # If all target values are the same, return a leaf node with that classification\n",
        "    if len(np.unique(data[target_name])) == 1:\n",
        "        classification = np.unique(data[target_name])[0]\n",
        "        return Node(is_leaf=True, classification=classification)\n",
        "\n",
        "    # If there are no more features to split on, return a leaf node with the majority class\n",
        "    if len(features) == 0:\n",
        "        classification = data[target_name].mode()[0]\n",
        "        return Node(is_leaf=True, classification=classification)\n",
        "\n",
        "    # Find the best feature to split on\n",
        "    best_attribute, _ = find_best_attribute(data, features, target_name)\n",
        "\n",
        "    # Create a root node with this best attribute\n",
        "    root = Node(name=best_attribute)\n",
        "\n",
        "    # Remove the best attribute from the feature list for further splits\n",
        "    features = [f for f in features if f != best_attribute]\n",
        "\n",
        "    # Split the data by the values of the best attribute and create child nodes\n",
        "    for value in np.unique(data[best_attribute]):\n",
        "        subset = data[data[best_attribute] == value]\n",
        "        child = build_tree(subset, features, target_name)\n",
        "        root.children[value] = child\n",
        "\n",
        "    return root\n",
        "\n",
        "\n",
        "\n",
        "def predict(tree, instance):\n",
        "    if tree.is_leaf:\n",
        "        return tree.classification\n",
        "    attribute_value = instance[tree.name]\n",
        "    return predict(tree.children[attribute_value], instance)\n",
        "# Get the features (all columns except the target)\n",
        "features = df.columns[:-1]\n",
        "\n",
        "# Build the decision tree\n",
        "decision_tree = build_tree(df, features)\n",
        "\n",
        "# Print the decision tree structure\n",
        "print(\"Decision Tree Structure:\")\n",
        "print(decision_tree)\n",
        "\n",
        "# Test with a sample instance\n",
        "test_instance = df.iloc[0]  # First instance from the dataset\n",
        "prediction = predict(decision_tree, test_instance)\n",
        "print(f\"Prediction for test instance {test_instance.to_dict()}: {prediction}\")"
      ],
      "metadata": {
        "colab": {
          "base_uri": "https://localhost:8080/"
        },
        "id": "xOci1UeMcTqu",
        "outputId": "e5b0df5f-003d-4c09-da64-da75fcd170c8"
      },
      "execution_count": 5,
      "outputs": [
        {
          "output_type": "stream",
          "name": "stdout",
          "text": [
            "Calculating Information Gain for each attribute...\n",
            "\n",
            "\n",
            "Calculating Information Gain for attribute: 'outlook'\n",
            "Entropy of 'System': 0.9403\n",
            "Total entropy of the dataset for target 'play': 0.9403\n",
            "Entropy of 'outlook = overcast': 0.0000\n",
            "Entropy of 'outlook = rainy': 0.9710\n",
            "Entropy of 'outlook = sunny': 0.9710\n",
            "Weighted Entropy for 'outlook': 0.6935\n",
            "Information Gain for attribute 'outlook': 0.2467\n",
            "\n",
            "\n",
            "Calculating Information Gain for attribute: 'temp'\n",
            "Entropy of 'System': 0.9403\n",
            "Total entropy of the dataset for target 'play': 0.9403\n",
            "Entropy of 'temp = cool': 0.8113\n",
            "Entropy of 'temp = hot': 1.0000\n",
            "Entropy of 'temp = mild': 0.9183\n",
            "Weighted Entropy for 'temp': 0.9111\n",
            "Information Gain for attribute 'temp': 0.0292\n",
            "\n",
            "\n",
            "Calculating Information Gain for attribute: 'humidity'\n",
            "Entropy of 'System': 0.9403\n",
            "Total entropy of the dataset for target 'play': 0.9403\n",
            "Entropy of 'humidity = high': 0.9852\n",
            "Entropy of 'humidity = normal': 0.5917\n",
            "Weighted Entropy for 'humidity': 0.7885\n",
            "Information Gain for attribute 'humidity': 0.1518\n",
            "\n",
            "\n",
            "Calculating Information Gain for attribute: 'windy'\n",
            "Entropy of 'System': 0.9403\n",
            "Total entropy of the dataset for target 'play': 0.9403\n",
            "Entropy of 'windy = False': 0.8113\n",
            "Entropy of 'windy = True': 1.0000\n",
            "Weighted Entropy for 'windy': 0.8922\n",
            "Information Gain for attribute 'windy': 0.0481\n",
            "\n",
            "Best attribute to split on is: 'outlook' with Information Gain: 0.2467\n",
            "Calculating Information Gain for each attribute...\n",
            "\n",
            "\n",
            "Calculating Information Gain for attribute: 'temp'\n",
            "Entropy of 'System': 0.9710\n",
            "Total entropy of the dataset for target 'play': 0.9710\n",
            "Entropy of 'temp = cool': 1.0000\n",
            "Entropy of 'temp = mild': 0.9183\n",
            "Weighted Entropy for 'temp': 0.9510\n",
            "Information Gain for attribute 'temp': 0.0200\n",
            "\n",
            "\n",
            "Calculating Information Gain for attribute: 'humidity'\n",
            "Entropy of 'System': 0.9710\n",
            "Total entropy of the dataset for target 'play': 0.9710\n",
            "Entropy of 'humidity = high': 1.0000\n",
            "Entropy of 'humidity = normal': 0.9183\n",
            "Weighted Entropy for 'humidity': 0.9510\n",
            "Information Gain for attribute 'humidity': 0.0200\n",
            "\n",
            "\n",
            "Calculating Information Gain for attribute: 'windy'\n",
            "Entropy of 'System': 0.9710\n",
            "Total entropy of the dataset for target 'play': 0.9710\n",
            "Entropy of 'windy = False': 0.0000\n",
            "Entropy of 'windy = True': 0.0000\n",
            "Weighted Entropy for 'windy': 0.0000\n",
            "Information Gain for attribute 'windy': 0.9710\n",
            "\n",
            "Best attribute to split on is: 'windy' with Information Gain: 0.9710\n",
            "Calculating Information Gain for each attribute...\n",
            "\n",
            "\n",
            "Calculating Information Gain for attribute: 'temp'\n",
            "Entropy of 'System': 0.9710\n",
            "Total entropy of the dataset for target 'play': 0.9710\n",
            "Entropy of 'temp = cool': 0.0000\n",
            "Entropy of 'temp = hot': 0.0000\n",
            "Entropy of 'temp = mild': 1.0000\n",
            "Weighted Entropy for 'temp': 0.4000\n",
            "Information Gain for attribute 'temp': 0.5710\n",
            "\n",
            "\n",
            "Calculating Information Gain for attribute: 'humidity'\n",
            "Entropy of 'System': 0.9710\n",
            "Total entropy of the dataset for target 'play': 0.9710\n",
            "Entropy of 'humidity = high': 0.0000\n",
            "Entropy of 'humidity = normal': 0.0000\n",
            "Weighted Entropy for 'humidity': 0.0000\n",
            "Information Gain for attribute 'humidity': 0.9710\n",
            "\n",
            "\n",
            "Calculating Information Gain for attribute: 'windy'\n",
            "Entropy of 'System': 0.9710\n",
            "Total entropy of the dataset for target 'play': 0.9710\n",
            "Entropy of 'windy = False': 0.9183\n",
            "Entropy of 'windy = True': 1.0000\n",
            "Weighted Entropy for 'windy': 0.9510\n",
            "Information Gain for attribute 'windy': 0.0200\n",
            "\n",
            "Best attribute to split on is: 'humidity' with Information Gain: 0.9710\n",
            "Decision Tree Structure:\n",
            "Decision Node: outlook -> {'overcast': Leaf Node: yes, 'rainy': Decision Node: windy -> {False: Leaf Node: yes, True: Leaf Node: no}, 'sunny': Decision Node: humidity -> {'high': Leaf Node: no, 'normal': Leaf Node: yes}}\n",
            "Prediction for test instance {'outlook': 'sunny', 'temp': 'hot', 'humidity': 'high', 'windy': False, 'play': 'no'}: no\n"
          ]
        }
      ]
    },
    {
      "cell_type": "code",
      "source": [],
      "metadata": {
        "id": "NrXHbIaLWm_b"
      },
      "execution_count": null,
      "outputs": []
    }
  ]
}